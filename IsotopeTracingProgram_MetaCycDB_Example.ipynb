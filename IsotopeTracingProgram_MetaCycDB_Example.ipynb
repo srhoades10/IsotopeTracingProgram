{
 "cells": [
  {
   "cell_type": "code",
   "execution_count": 1,
   "metadata": {
    "collapsed": true
   },
   "outputs": [],
   "source": [
    "############################################################################\n",
    "#This code utilizes reaction information from MetaCyc to track carbon fates\n",
    "#.. in genome-scale metabolic networks\n",
    "#\n",
    "#In this example, the carbons from isotopically labeled glucose are\n",
    "#.. transferred to downstream metabolties, and dictionaries are built to\n",
    "#.. compile the reactants, products, and enzymes which catalyzed the reaction\n",
    "#\n",
    "#This is an example of two in silico isotope labeling reactions\n",
    "#This work has been extended to build metabolic pathways from experimental\n",
    "#.. data, and is currently being prepared for publication\n",
    "#\n",
    "############################################################################"
   ]
  },
  {
   "cell_type": "code",
   "execution_count": 2,
   "metadata": {
    "collapsed": true
   },
   "outputs": [],
   "source": [
    "import numpy, pandas, os, sys, re, itertools, csv, gc"
   ]
  },
  {
   "cell_type": "code",
   "execution_count": 3,
   "metadata": {
    "collapsed": true
   },
   "outputs": [],
   "source": [
    "from itertools import chain"
   ]
  },
  {
   "cell_type": "code",
   "execution_count": 4,
   "metadata": {
    "collapsed": true
   },
   "outputs": [],
   "source": [
    "from collections import defaultdict"
   ]
  },
  {
   "cell_type": "code",
   "execution_count": 5,
   "metadata": {
    "collapsed": true
   },
   "outputs": [],
   "source": [
    "import dill as pickle"
   ]
  },
  {
   "cell_type": "code",
   "execution_count": 6,
   "metadata": {
    "collapsed": false
   },
   "outputs": [],
   "source": [
    "#Import the reaction links of RXNs identifiers to ECs\n",
    "MetaCycReactionLinks=pandas.read_csv('reaction-linksAdd.txt',sep='\\t',skiprows=1)\n",
    "MetaCycReactionLinks=MetaCycReactionLinks.drop(0)"
   ]
  },
  {
   "cell_type": "code",
   "execution_count": 7,
   "metadata": {
    "collapsed": false
   },
   "outputs": [],
   "source": [
    "#Trim reaction links\n",
    "MetaCycReactionLinks=MetaCycReactionLinks[MetaCycReactionLinks.columns[0:2]]"
   ]
  },
  {
   "cell_type": "code",
   "execution_count": 8,
   "metadata": {
    "collapsed": false
   },
   "outputs": [],
   "source": [
    "MetaCycReactionLinks.columns=['MetaCyc','EC']"
   ]
  },
  {
   "cell_type": "code",
   "execution_count": 9,
   "metadata": {
    "collapsed": false
   },
   "outputs": [],
   "source": [
    "#Create a dictionary of MetaCyc RXN IDs with EC numbers as values\n",
    "MetaCycReactionLinksDict=dict(zip(MetaCycReactionLinks.MetaCyc,MetaCycReactionLinks.EC))"
   ]
  },
  {
   "cell_type": "code",
   "execution_count": 10,
   "metadata": {
    "collapsed": false
   },
   "outputs": [],
   "source": [
    "#Read in the Smiles Matrix of reactions to compounds - use fly reactions\n",
    "#SmilesMap=pandas.read_csv('atom-mappings-smiles.dat',sep='\\t',header=None)\n",
    "#Fly reactions\n",
    "SmilesMap=pandas.read_csv('atom-mappings-smiles-flyonlyAdd.dat',sep='\\t',header=None,skiprows=1,usecols=[1,2])\n",
    "SmilesMap.columns=['Reaction','Compounds']"
   ]
  },
  {
   "cell_type": "code",
   "execution_count": 11,
   "metadata": {
    "collapsed": true
   },
   "outputs": [],
   "source": [
    "#Read in list of Smiles->'English' conversions\n",
    "PubChemCpds=pandas.read_csv('PubChemCpdMatchAdd.csv',sep=',')"
   ]
  },
  {
   "cell_type": "code",
   "execution_count": 12,
   "metadata": {
    "collapsed": false,
    "scrolled": true
   },
   "outputs": [],
   "source": [
    "#Compiled expression matches - may shave some time off later given the\n",
    "#.. number of string matches I perform\n",
    "SmilesStringRe1=re.compile(r':\\d?\\d]*')\n",
    "SmilesStringRe2=re.compile(r'\\[|\\]')\n",
    "SmilesStringRe3=re.compile(r'^\\'|\\'$')\n",
    "MetaCycSplitter=re.compile(r'(>>|\\.)')\n",
    "CarbFinder=re.compile(r'C\\*?')\n",
    "LabelFinder=re.compile(r'C\\*:\\d+')\n",
    "SpaceRemover=re.compile(r'^ ')"
   ]
  },
  {
   "cell_type": "code",
   "execution_count": 13,
   "metadata": {
    "collapsed": false
   },
   "outputs": [],
   "source": [
    "#Dictionary to pull out 'English name' from the Smiles format\n",
    "PubChemCpdsDict=dict(zip(PubChemCpds.Smiles,PubChemCpds.Name))"
   ]
  },
  {
   "cell_type": "code",
   "execution_count": 14,
   "metadata": {
    "collapsed": false
   },
   "outputs": [],
   "source": [
    "#Function to get a smiles string from the MetaCyc-specific Smiles annotation\n",
    "#Using compiled expressions\n",
    "def SmilesFromMetaCycCpd(OneCpdString):\n",
    "    \n",
    "    #Get rid of the bracketing\n",
    "    OneCpdString=SmilesStringRe1.sub(repl='',string=OneCpdString)\n",
    "    \n",
    "    #Extra bracketing\n",
    "    OneCpdString=SmilesStringRe2.sub(repl='',string=OneCpdString)\n",
    "    \n",
    "    #Remove extra apostrophes if they exist\n",
    "    if OneCpdString.startswith('\\'') and OneCpdString.endswith('\\''):\n",
    "        OneCpdString=SmilesStringRe3.sub(repl='',string=OneCpdString)\n",
    "        \n",
    "    return(OneCpdString)"
   ]
  },
  {
   "cell_type": "code",
   "execution_count": 15,
   "metadata": {
    "collapsed": true
   },
   "outputs": [],
   "source": [
    "#Define glucose by SMILES format\n",
    "GLUCOSESMILES='C(C1(C(C(C(C(O1)O)O)O)O))O'"
   ]
  },
  {
   "cell_type": "code",
   "execution_count": 16,
   "metadata": {
    "collapsed": true
   },
   "outputs": [],
   "source": [
    "#13C6 Glucose and initial labeling list - this string can be changed to\n",
    "#.. any tracer of interest, e.g. 13C3 Lactate\n",
    "GLUCOSESMILES13C6='C*(C*1(C*(C*(C*(C*(O1)O)O)O)O))O'\n",
    "LabListInitial=[GLUCOSESMILES13C6]"
   ]
  },
  {
   "cell_type": "code",
   "execution_count": 17,
   "metadata": {
    "collapsed": true
   },
   "outputs": [],
   "source": [
    "#Dictionary of MetaCyc Rxn to MetaCyc Compound list split up\n",
    "SmilesMapDict=dict(zip(SmilesMap.Reaction,SmilesMap.Compounds))"
   ]
  },
  {
   "cell_type": "code",
   "execution_count": 18,
   "metadata": {
    "collapsed": false
   },
   "outputs": [],
   "source": [
    "#Dictionary of MetaCyc Rxn to Compound items in SMILES format\n",
    "SmilesMapSmilesSplit=SmilesMap.Compounds.str.split('[.]|[>>]')\n",
    "Reducer=lambda x:[SmilesFromMetaCycCpd(y) for y in x]\n",
    "SmilesMapSmilesSplit=SmilesMapSmilesSplit.apply(Reducer)\n",
    "SmilesMapSmilesCpdDict=dict(zip(SmilesMap.Reaction,SmilesMapSmilesSplit))"
   ]
  },
  {
   "cell_type": "code",
   "execution_count": 19,
   "metadata": {
    "collapsed": true
   },
   "outputs": [],
   "source": [
    "#Master compound list built from SmilesMap\n",
    "MasterCpdList=list(chain.from_iterable(SmilesMapSmilesSplit))\n",
    "MasterCpdList=list(set(MasterCpdList))"
   ]
  },
  {
   "cell_type": "code",
   "execution_count": 20,
   "metadata": {
    "collapsed": true
   },
   "outputs": [],
   "source": [
    "#Master dictionary of the reactions which contain any one of the 12k compounds - useful for GenerateNewReaction function\n",
    "CpdToRxnDict={}\n",
    "for cpd in range(len(MasterCpdList)):\n",
    "    xlist=[k for (k,v) in SmilesMapSmilesCpdDict.items() if MasterCpdList[cpd] in v] #56s for cpd list of 12k\n",
    "    CpdToRxnDict.setdefault(MasterCpdList[cpd],[])\n",
    "    CpdToRxnDict[MasterCpdList[cpd]].extend(xlist)"
   ]
  },
  {
   "cell_type": "code",
   "execution_count": 21,
   "metadata": {
    "collapsed": false,
    "scrolled": true
   },
   "outputs": [],
   "source": [
    "#Get the index in a reaction that is already split by its .'s and >>'s of the >> (i.e. what splits the reactants and products)\n",
    "def GetTheReactantsLength(OneSplitSMILESReaction):\n",
    "    for i in range(0,len(OneSplitSMILESReaction)):\n",
    "        if len(OneSplitSMILESReaction[i])==0:\n",
    "            return i"
   ]
  },
  {
   "cell_type": "code",
   "execution_count": 22,
   "metadata": {
    "collapsed": true
   },
   "outputs": [],
   "source": [
    "#Dictionary of the point of equilibration sign based on str.split('[.]|[>>]'), with keys as the MetaCyc RXN IDs\n",
    "ReactantLengthDict=dict(zip(SmilesMap.Reaction,SmilesMapSmilesSplit.apply(GetTheReactantsLength)))"
   ]
  },
  {
   "cell_type": "code",
   "execution_count": 23,
   "metadata": {
    "collapsed": true
   },
   "outputs": [],
   "source": [
    "#Insert a labeled compound into a MetaCyc reaction by finding its isotope-stripped version\n",
    "def InsertLabeledMetabIntoString(BigString,LabMetab,StripMetab):\n",
    "    \n",
    "    #Find the carbons\n",
    "    Carbs=CarbFinder.findall(LabMetab)\n",
    "    \n",
    "    #Iterative list of the carbon locations with a label\n",
    "    match=[j for j in range(len(Carbs)) if Carbs[j].__contains__('C*')]\n",
    "\n",
    "    #Split the MetaCyc reaction compound string into reactants and products\n",
    "    TempRxn=MetaCycSplitter.split(str(BigString))\n",
    "    \n",
    "    #Convert each item to Smiles format\n",
    "    TempRxn1=[SmilesFromMetaCycCpd(x) for x in TempRxn]\n",
    "    \n",
    "    for metab in range(len(TempRxn)):\n",
    "        \n",
    "        #Find the carbon locations\n",
    "        CIndicies=[m.start() for m in re.finditer('C',TempRxn[metab])]\n",
    "        \n",
    "        #Listify\n",
    "        ListMetab=list(TempRxn[metab])\n",
    "        \n",
    "        #If any of the items from the MetaCyc reactants/products list match the metabolite which contains the isotope..\n",
    "        if TempRxn1[metab]==StripMetab:\n",
    "            \n",
    "            for location in range(len(match)):\n",
    "                \n",
    "                #Insert the isotope at the right location\n",
    "                ListMetab[CIndicies[match[location]]]='C*'\n",
    "                \n",
    "                #Rejoin the list - necessary?\n",
    "                ConvertedMetab=''.join(ListMetab)\n",
    "                \n",
    "                #Replace old metabolite with newly labeled form\n",
    "                TempRxn[metab]=ConvertedMetab\n",
    "            \n",
    "        #Convert back to MetaCyc format\n",
    "        BigString=''.join(item for item in TempRxn)\n",
    "        \n",
    "    return(BigString)"
   ]
  },
  {
   "cell_type": "code",
   "execution_count": 24,
   "metadata": {
    "collapsed": true
   },
   "outputs": [],
   "source": [
    "#Take the list of labeled compounds, and find all the Metacyc reactions that contain the compounds, build a matrix\n",
    "def BuildReactionMatrixFromCpdList(ListOfLabeledCpds):\n",
    "    \n",
    "    MasterRxnList=[]\n",
    "    MasterCompoundList=[]\n",
    "    \n",
    "    #Strip all labeled metabolites of isotopes for matching purposes\n",
    "    StrippedList=[x.replace('C*','C') for x in ListOfLabeledCpds]\n",
    "    \n",
    "    for labcpd,nolabcpd in zip(ListOfLabeledCpds,StrippedList):\n",
    "        \n",
    "        try:\n",
    "            \n",
    "            #Try using the dictionary to generate a list of reactions for each given metabolite\n",
    "            RxnList=CpdToRxnDict[nolabcpd]\n",
    "            \n",
    "            #Get the Metacyc compounds from each reaction\n",
    "            RxnCompounds=[SmilesMapDict[x] for x in RxnList]\n",
    "            \n",
    "            #Insert the labeled compound into the Metacyc compounds list\n",
    "            RxnCompounds=[InsertLabeledMetabIntoString(x,labcpd,nolabcpd) for x in RxnCompounds]\n",
    "            \n",
    "        except:\n",
    "            RxnList=[]\n",
    "            RxnCompounds=[]\n",
    "        \n",
    "        #Build out the lists\n",
    "        MasterRxnList.extend(RxnList)\n",
    "        MasterCompoundList.extend(RxnCompounds)\n",
    "\n",
    "    #Turn into Series' for later apply functions and indexing\n",
    "    PrepMatrix=pandas.Series([MasterRxnList,MasterCompoundList])\n",
    "    \n",
    "    #Build DataFrame.. is this a memory concern?\n",
    "    PrepMatrix=BuildReactionMatrixExport(PrepMatrix)\n",
    "    \n",
    "    return(PrepMatrix)"
   ]
  },
  {
   "cell_type": "code",
   "execution_count": 25,
   "metadata": {
    "collapsed": true
   },
   "outputs": [],
   "source": [
    "#Function to build the reaction matrix export - done, with reactions filled in already\n",
    "def BuildReactionMatrixExport(PreLabeledReactionMatrix):\n",
    "    \n",
    "        #Build new data frame with same rows as ReactionMatrix\n",
    "        DataFrameExport=pandas.DataFrame(index=numpy.arange(len(PreLabeledReactionMatrix[0])),columns=['Reaction','Compounds','Reactants','Products'])\n",
    "        \n",
    "        #Fill the reaction column from the lists of reactions and compounds with isotope addition from 'BuildReactionMatrix' function\n",
    "        DataFrameExport['Reaction']=PreLabeledReactionMatrix[0]\n",
    "        DataFrameExport['Compounds']=PreLabeledReactionMatrix[1]\n",
    "        \n",
    "        del PreLabeledReactionMatrix\n",
    "        \n",
    "        return(DataFrameExport)"
   ]
  },
  {
   "cell_type": "code",
   "execution_count": 26,
   "metadata": {
    "collapsed": true
   },
   "outputs": [],
   "source": [
    "#Take list of carbon numbers, find them in the metabolite of interest, and replace Cs with C*s (i.e. with isotope)\n",
    "def MiniInsertLabel(CarbonRegexList,Metabolite):\n",
    "    for num in CarbonRegexList:\n",
    "        Metabolite=re.sub(pattern='\\\\b'+'C:'+num+'\\\\b',repl='C*:'+num,string=Metabolite)\n",
    "    return(Metabolite)"
   ]
  },
  {
   "cell_type": "code",
   "execution_count": 27,
   "metadata": {
    "collapsed": true
   },
   "outputs": [],
   "source": [
    "#Take labeled reactants, find carbon numbers, map to products and label those carbons\n",
    "def GenericLabelingReactionMatrixApply(UnlabeledReactionMatrix):\n",
    "    \n",
    "    #Split into metabolite items\n",
    "    UnlabeledReactionMatrix=MetaCycSplitter.split(UnlabeledReactionMatrix)\n",
    "    \n",
    "    #Get all reactants with label\n",
    "    ReactantList=[item for item in UnlabeledReactionMatrix if '*' in item]\n",
    "    \n",
    "    #find carbom numbers to get labeled\n",
    "    FindThese=LabelFinder.findall(str(ReactantList))\n",
    "    \n",
    "    #Return only the numbers that are assigned to the carbons\n",
    "    FindThese=[x.replace('C*:','') for x in FindThese]\n",
    "    \n",
    "    #Get cpds not currently labeled\n",
    "    HoldList=[item for item in UnlabeledReactionMatrix if not '*' in item]\n",
    "    \n",
    "    #Return the smiles format of reactants labeled cpds\n",
    "    ReactantList=[SmilesFromMetaCycCpd(x) for x in ReactantList]\n",
    "    \n",
    "    #Label any metabolite that contains a carbon number from FindThese\n",
    "    HoldList=[MiniInsertLabel(FindThese,x) for x in HoldList]\n",
    "    \n",
    "    #Pull out only metabolites which obtained a labeled (i.e. the Products)\n",
    "    ProductList=[item for item in HoldList if '*' in item]\n",
    "    \n",
    "    #Return Smiles\n",
    "    ProductList=[SmilesFromMetaCycCpd(x) for x in ProductList]\n",
    "    \n",
    "    #Build tuple of reactants and products\n",
    "    UnlabeledReactionMatrix=(ReactantList,ProductList)\n",
    "    \n",
    "    del ReactantList,ProductList,HoldList\n",
    "\n",
    "    return(UnlabeledReactionMatrix)"
   ]
  },
  {
   "cell_type": "code",
   "execution_count": 28,
   "metadata": {
    "collapsed": true
   },
   "outputs": [],
   "source": [
    "#Unpack the tuple of reactants and products, fill in the appropriate columns of the dataframe\n",
    "def UnpackAndFill(ReactedMatrix):\n",
    "    Reactants,Products=zip(*ReactedMatrix.Compounds)\n",
    "    ReactedMatrix.Reactants=Reactants\n",
    "    ReactedMatrix.Products=Products\n",
    "    del Reactants,Products\n",
    "    ReactedMatrix.drop('Compounds',axis=1,inplace=True)\n",
    "    return(ReactedMatrix)"
   ]
  },
  {
   "cell_type": "code",
   "execution_count": 29,
   "metadata": {
    "collapsed": false,
    "scrolled": true
   },
   "outputs": [],
   "source": [
    "#New function, take products from Labeled reaction matrix, make new labeled list\n",
    "def NewLabeledCpdList(ReactedMatrix):\n",
    "    \n",
    "    #Build list of cpds from the products column - note NewCpds is a replacement of Products for the paralleled form\n",
    "    NewList=list(chain.from_iterable(ReactedMatrix.NewCpds))\n",
    "\n",
    "    #No CO2 - Jan 31, 2017 - optional\n",
    "    NewList=[x for x in NewList if x!='C(=O)=O']\n",
    "    \n",
    "    #Keep unique elements of list\n",
    "    NewList=list(set(NewList))\n",
    "    \n",
    "    return(NewList)"
   ]
  },
  {
   "cell_type": "code",
   "execution_count": 30,
   "metadata": {
    "collapsed": false
   },
   "outputs": [],
   "source": [
    "#Use MetaCycReactionLinksDict for reaction conversion from MetaCyc's RXN to EC\n",
    "def ReactionConvert(RunReactionMatrix):\n",
    "    if str(MetaCycReactionLinksDict[RunReactionMatrix])!='nan':\n",
    "        RunReactionMatrix=MetaCycReactionLinksDict[RunReactionMatrix]\n",
    "    return(RunReactionMatrix)"
   ]
  },
  {
   "cell_type": "code",
   "execution_count": 31,
   "metadata": {
    "collapsed": false,
    "scrolled": true
   },
   "outputs": [],
   "source": [
    "#Name converter from Smiles to 'English'\n",
    "def ReactantConvertOne(x):\n",
    "    try:\n",
    "        x=PubChemCpdsDict[x]\n",
    "    except:\n",
    "        x=''\n",
    "    return(x)"
   ]
  },
  {
   "cell_type": "code",
   "execution_count": 32,
   "metadata": {
    "collapsed": true
   },
   "outputs": [],
   "source": [
    "#Convert a compound string so that it can be matched to an 'English' name\n",
    "\n",
    "#Compiled patterns\n",
    "ChargeRemover=re.compile(r'\\+|\\-')\n",
    "ExtraPostasRemover=re.compile('^\\'|\\'$')\n",
    "\n",
    "def LabelStrippersOne(x):\n",
    "    \n",
    "    #Remove labels\n",
    "    x=x.replace('*','')\n",
    "    \n",
    "    #Remove charges\n",
    "    x=ChargeRemover.sub('',string=str(x))\n",
    "    \n",
    "    #Remove any rextra apostrophes\n",
    "    x=ExtraPostasRemover.sub('',string=str(x))\n",
    "    \n",
    "    return(x)"
   ]
  },
  {
   "cell_type": "code",
   "execution_count": 33,
   "metadata": {
    "collapsed": true
   },
   "outputs": [],
   "source": [
    "#Convert a labeled metabolite string into 'English isotopomer name (e.g. Glucose M+6)\n",
    "def CombinedConvertMetabs(OneLabeledMatrixCpd):\n",
    "    \n",
    "    #Get number of label counts\n",
    "    OneLabeledMatrixCpdCarbs=OneLabeledMatrixCpd.count('*')\n",
    "    \n",
    "    #Strip labels and charges\n",
    "    OneLabeledMatrixCpdsEnglish=LabelStrippersOne(OneLabeledMatrixCpd)\n",
    "    \n",
    "    #Convert to English using metabolite dictionary\n",
    "    OneLabeledMatrixCpdsEnglish=ReactantConvertOne(OneLabeledMatrixCpdsEnglish)\n",
    "    \n",
    "    #Format string to use both english name and label number\n",
    "    OneLabeledMatrixCpd=str('{0} M+{1}').format(OneLabeledMatrixCpdsEnglish,OneLabeledMatrixCpdCarbs)\n",
    "    \n",
    "    return(OneLabeledMatrixCpd)"
   ]
  },
  {
   "cell_type": "code",
   "execution_count": 34,
   "metadata": {
    "collapsed": true
   },
   "outputs": [],
   "source": [
    "#Function to call the conversion of reactants and products to english\n",
    "def UpdatedMetabConvert(LabeledMatrixCpds):\n",
    "    LabeledMatrixCpds=[CombinedConvertMetabs(x) for x in LabeledMatrixCpds]\n",
    "    return(LabeledMatrixCpds)"
   ]
  },
  {
   "cell_type": "code",
   "execution_count": 35,
   "metadata": {
    "collapsed": false,
    "scrolled": true
   },
   "outputs": [],
   "source": [
    "#Trim reaction matrix to drop nonmatching metabolites (i.e. they can't be named)\n",
    "def TrimExportReactionMatrix(ExportReactionMatrix):\n",
    "\n",
    "    #Drop the nans\n",
    "    ExportReactionMatrix=ExportReactionMatrix.dropna(subset=['Reactants'])\n",
    "    ExportReactionMatrix=ExportReactionMatrix.dropna(subset=['Products'])\n",
    "    \n",
    "    #drop row indicies that have a blank Labeled Reactants or Products cell\n",
    "    ExportReactionMatrix=ExportReactionMatrix.drop(ExportReactionMatrix[ExportReactionMatrix['Reactants'].map(len)==0].index,axis=0)\n",
    "    ExportReactionMatrix=ExportReactionMatrix.drop(ExportReactionMatrix[ExportReactionMatrix['Products'].map(len)==0].index,axis=0)\n",
    "\n",
    "    return(ExportReactionMatrix)"
   ]
  },
  {
   "cell_type": "code",
   "execution_count": 36,
   "metadata": {
    "collapsed": false
   },
   "outputs": [],
   "source": [
    "#If metabolite didn't get an english name match, drop it\n",
    "def DropMissingMetabs(ConvertedMatrixColumnCpd):\n",
    "\n",
    "    ConvertedMatrixColumnCpd=[item for item in ConvertedMatrixColumnCpd if not re.search('^ M+[0-9]*',item)]\n",
    "\n",
    "    return(ConvertedMatrixColumnCpd)"
   ]
  },
  {
   "cell_type": "code",
   "execution_count": 37,
   "metadata": {
    "collapsed": false,
    "scrolled": true
   },
   "outputs": [],
   "source": [
    "#convert to english, build the dictionary for round 1\n",
    "def ConvertMatrixToEnglish(LabeledReactionMatrix):\n",
    "    \n",
    "    #Convert RXN to EC\n",
    "    LabeledReactionMatrix.Reaction=LabeledReactionMatrix.Reaction.apply(ReactionConvert)\n",
    "    \n",
    "    #Convert reactants and products to english M+x isotopomer names\n",
    "    LabeledReactionMatrix.Reactants=LabeledReactionMatrix.Reactants.apply(UpdatedMetabConvert)    \n",
    "    LabeledReactionMatrix.Products=LabeledReactionMatrix.Products.apply(UpdatedMetabConvert)\n",
    "\n",
    "    #Remove unnamed metabolites\n",
    "    LabeledReactionMatrix.Reactants=LabeledReactionMatrix.Reactants.apply(DropMissingMetabs) #622ms, 25% faster than before\n",
    "    LabeledReactionMatrix.Products=LabeledReactionMatrix.Products.apply(DropMissingMetabs) #622ms, 25% faster than before\n",
    "\n",
    "    #Drop empty fields\n",
    "    LabeledReactionMatrix=TrimExportReactionMatrix(LabeledReactionMatrix)\n",
    "    LabeledReactionMatrix=LabeledReactionMatrix.reset_index(drop=True)\n",
    "    \n",
    "    return(LabeledReactionMatrix)"
   ]
  },
  {
   "cell_type": "code",
   "execution_count": null,
   "metadata": {
    "collapsed": true
   },
   "outputs": [],
   "source": []
  },
  {
   "cell_type": "code",
   "execution_count": 38,
   "metadata": {
    "collapsed": false
   },
   "outputs": [],
   "source": [
    "#Build dictiontary/hashable results from the labeling matrix\n",
    "def MakingDict(LabeledRxnMatrix):\n",
    "    \n",
    "    Dictionary=defaultdict(lambda: defaultdict(list))\n",
    "\n",
    "    for rxns in range(len(LabeledRxnMatrix)):\n",
    "        \n",
    "        #Remove any extra spaces\n",
    "        Reactants=[SpaceRemover.sub('',x) for x in LabeledRxnMatrix.Reactants[rxns]]\n",
    "\n",
    "        Products=[SpaceRemover.sub('',x) for x in LabeledRxnMatrix.Products[rxns]]\n",
    "        \n",
    "        #Add values to the Product keys, both the reactants as well as the reactants' as keys to the enzymes\n",
    "        if len(Products)==1:\n",
    "            if LabeledRxnMatrix.Reaction[rxns] in Dictionary[str(Products).strip('[]|\\'')][Reactants[0]]:\n",
    "                pass\n",
    "            else:\n",
    "                Dictionary[str(Products).strip('[]|\\'')][Reactants[0]].append(LabeledRxnMatrix.Reaction[rxns])\n",
    "           \n",
    "        if len(Products)>1:\n",
    "            for cpd in range(len(Products)):\n",
    "                if LabeledRxnMatrix.Reaction[rxns] in Dictionary[str(Products[cpd]).strip('[]|\\'')][Reactants[0]]:\n",
    "                    pass\n",
    "                else:\n",
    "                    Dictionary[str(Products[cpd]).strip('[]|\\'')][Reactants[0]].append(LabeledRxnMatrix.Reaction[rxns])\n",
    "\n",
    "    \n",
    "    return(Dictionary)"
   ]
  },
  {
   "cell_type": "code",
   "execution_count": null,
   "metadata": {
    "collapsed": true
   },
   "outputs": [],
   "source": []
  },
  {
   "cell_type": "code",
   "execution_count": 39,
   "metadata": {
    "collapsed": true
   },
   "outputs": [],
   "source": [
    "#Run rounds 1 as normal before parallel.. to get it going"
   ]
  },
  {
   "cell_type": "code",
   "execution_count": 40,
   "metadata": {
    "collapsed": false
   },
   "outputs": [
    {
     "name": "stdout",
     "output_type": "stream",
     "text": [
      "Round 1 Done\n",
      "CPU times: user 44 ms, sys: 0 ns, total: 44 ms\n",
      "Wall time: 45 ms\n"
     ]
    }
   ],
   "source": [
    "%%time\n",
    "#Nonparallel version - round 1\n",
    "NextRoundReaction=BuildReactionMatrixFromCpdList(LabListInitial)\n",
    "NextRoundReaction.Compounds=NextRoundReaction.Compounds.apply(GenericLabelingReactionMatrixApply)\n",
    "NextRoundReaction=UnpackAndFill(NextRoundReaction)\n",
    "NextRoundReaction['NewCpds']=NextRoundReaction.Products\n",
    "NextRoundCpdList=NewLabeledCpdList(NextRoundReaction)\n",
    "CpdFile='LabeledCpds_FromRound_1.csv' #Change\n",
    "with open(CpdFile,'w') as output:\n",
    "    writer=csv.writer(output,lineterminator='\\n')\n",
    "    for val in NextRoundCpdList:\n",
    "        writer.writerow([val])\n",
    "NextRoundReaction=ConvertMatrixToEnglish(NextRoundReaction)\n",
    "DictionaryRound=MakingDict(NextRoundReaction)\n",
    "output=open('Dictionary_FromRound_1.pkl','wb', -1) #Change\n",
    "pickle.dump(DictionaryRound,output,protocol=4)\n",
    "print('Round 1 Done') #Change"
   ]
  },
  {
   "cell_type": "code",
   "execution_count": 41,
   "metadata": {
    "collapsed": false
   },
   "outputs": [
    {
     "data": {
      "text/plain": [
       "defaultdict(<function __main__.MakingDict.<locals>.<lambda>>,\n",
       "            {'1-O-phosphonohexopyranose M+6': defaultdict(list,\n",
       "                         {'Hexopyranose M+6': ['EC-3.1.3.10', 'EC-2.4.1.64']}),\n",
       "             '6-o-phosphonohexopyranose M+6': defaultdict(list,\n",
       "                         {'Hexopyranose M+6': ['EC-2.7.1.147', 'EC-2.7.1.1']}),\n",
       "             'D-(+)-Trehalose M+6': defaultdict(list,\n",
       "                         {'Hexopyranose M+6': ['EC-2.4.1.64']}),\n",
       "             'cellobiose M+6': defaultdict(list,\n",
       "                         {'Hexopyranose M+6': ['EC-3.2.1.20', 'EC-2.4.1.25']}),\n",
       "             'glucono-delta-lactone M+6': defaultdict(list,\n",
       "                         {'Hexopyranose M+6': ['EC-1.1.1.47', 'EC-1.1.5.2']}),\n",
       "             'maltotriose M+12': defaultdict(list,\n",
       "                         {'Hexopyranose M+6': ['EC-3.2.1.20']}),\n",
       "             'melibiose M+6': defaultdict(list,\n",
       "                         {'Hexopyranose M+6': ['EC-3.2.1.10']})})"
      ]
     },
     "execution_count": 41,
     "metadata": {},
     "output_type": "execute_result"
    }
   ],
   "source": [
    "#Results of Reaction Round #1\n",
    "DictionaryRound"
   ]
  },
  {
   "cell_type": "code",
   "execution_count": 42,
   "metadata": {
    "collapsed": false,
    "scrolled": true
   },
   "outputs": [],
   "source": [
    "###"
   ]
  },
  {
   "cell_type": "code",
   "execution_count": 43,
   "metadata": {
    "collapsed": false
   },
   "outputs": [
    {
     "name": "stdout",
     "output_type": "stream",
     "text": [
      "Round 2 Done\n",
      "CPU times: user 96 ms, sys: 8 ms, total: 104 ms\n",
      "Wall time: 104 ms\n"
     ]
    }
   ],
   "source": [
    "%%time\n",
    "#Nonparallel version - round 2\n",
    "NextRoundReaction=BuildReactionMatrixFromCpdList(NextRoundCpdList)\n",
    "NextRoundReaction.Compounds=NextRoundReaction.Compounds.apply(GenericLabelingReactionMatrixApply)\n",
    "NextRoundReaction=UnpackAndFill(NextRoundReaction)\n",
    "NextRoundReaction['NewCpds']=NextRoundReaction.Products\n",
    "NextRoundCpdList=NewLabeledCpdList(NextRoundReaction)\n",
    "CpdFile='LabeledCpds_FromRound_2.csv' #Change\n",
    "with open(CpdFile,'w') as output:\n",
    "    writer=csv.writer(output,lineterminator='\\n')\n",
    "    for val in NextRoundCpdList:\n",
    "        writer.writerow([val])\n",
    "NextRoundReaction=ConvertMatrixToEnglish(NextRoundReaction)\n",
    "DictionaryRound=MakingDict(NextRoundReaction)\n",
    "output=open('Dictionary_FromRound_2.pkl','wb', -1) #Change\n",
    "pickle.dump(DictionaryRound,output,protocol=4)\n",
    "print('Round 2 Done') #Change"
   ]
  },
  {
   "cell_type": "code",
   "execution_count": 44,
   "metadata": {
    "collapsed": false,
    "scrolled": false
   },
   "outputs": [
    {
     "data": {
      "text/plain": [
       "defaultdict(<function __main__.MakingDict.<locals>.<lambda>>,\n",
       "            {'1,6-di-o-phosphonohexopyranose M+6': defaultdict(list,\n",
       "                         {'1-O-phosphonohexopyranose M+6': ['EC-2.7.1.10'],\n",
       "                          '6-o-phosphonohexopyranose M+6': ['EC-2.7.1.11']}),\n",
       "             '1-O-phosphonohexopyranose M+6': defaultdict(list,\n",
       "                         {'6-o-phosphonohexopyranose M+6': ['EC-5.4.2.6',\n",
       "                           'EC-5.4.2.5'],\n",
       "                          'D-(+)-Trehalose M+6': ['EC-2.4.1.231',\n",
       "                           'EC-2.4.1.64']}),\n",
       "             '2906-23-2 M+6': defaultdict(list,\n",
       "                         {'1-O-phosphonohexopyranose M+6': ['EC-2.7.7.33']}),\n",
       "             '6-o-phosphonohexopyranose M+6': defaultdict(list,\n",
       "                         {'1-O-phosphonohexopyranose M+6': ['EC-5.4.2.6',\n",
       "                           'EC-5.4.2.5'],\n",
       "                          '6-o-phosphonohexopyranose M+6': ['EC-5.1.3.15']}),\n",
       "             '6-o-phosphonohexopyranosyl hexopyranoside M+6': defaultdict(list,\n",
       "                         {'D-(+)-Trehalose M+6': ['EC-3.1.3.12']}),\n",
       "             'AC1MVMG6 M+6': defaultdict(list,\n",
       "                         {'1-O-phosphonohexopyranose M+6': ['EC-2.4.1.1'],\n",
       "                          'cellobiose M+6': ['EC-2.4.1.25']}),\n",
       "             'AC1NDWT1 M+6': defaultdict(list,\n",
       "                         {'melibiose M+6': ['EC-2.4.2']}),\n",
       "             'ADP-Glucose M+6': defaultdict(list,\n",
       "                         {'1-O-phosphonohexopyranose M+6': ['EC-2.7.7.27']}),\n",
       "             'D-(+)-Trehalose M+12': defaultdict(list,\n",
       "                         {'1-O-phosphonohexopyranose M+6': ['EC-2.4.1.64']}),\n",
       "             'D-(+)-Trehalose M+6': defaultdict(list,\n",
       "                         {'1-O-phosphonohexopyranose M+6': ['EC-2.4.1.231']}),\n",
       "             'GDP-Glucose M+6': defaultdict(list,\n",
       "                         {'1-O-phosphonohexopyranose M+6': ['EC-2.7.7.13',\n",
       "                           'EC-2.7.7.34']}),\n",
       "             'Hex-2-ulofuranosyl hexopyranoside M+6': defaultdict(list,\n",
       "                         {'1-O-phosphonohexopyranose M+6': ['EC-2.4.1.7']}),\n",
       "             'Hexonic acid M+6': defaultdict(list,\n",
       "                         {'glucono-delta-lactone M+6': ['EC-3.1.1.17']}),\n",
       "             'Hexopyranose M+6': defaultdict(list,\n",
       "                         {'1-O-phosphonohexopyranose M+6': ['EC-2.4.1.64',\n",
       "                           'EC-2.7.1.6',\n",
       "                           'EC-2.4.1.231',\n",
       "                           'EC-3.1.3.10'],\n",
       "                          '6-o-phosphonohexopyranose M+6': ['EC-2.7.1.1',\n",
       "                           'EC-2.7.1.147'],\n",
       "                          'D-(+)-Trehalose M+6': ['EC-2.4.1.231',\n",
       "                           'EC-3.2.1.28',\n",
       "                           'EC-2.4.1.64'],\n",
       "                          'cellobiose M+6': ['EC-3.2.1.20', 'EC-2.4.1.25'],\n",
       "                          'glucono-delta-lactone M+6': ['EC-1.1.1.47',\n",
       "                           'EC-1.1.5.2',\n",
       "                           'EC-1.1.1'],\n",
       "                          'maltotriose M+12': ['EC-3.2.1.20'],\n",
       "                          'melibiose M+6': ['EC-3.2.1.10']}),\n",
       "             'Maltoheptaose M+6': defaultdict(list,\n",
       "                         {'1-O-phosphonohexopyranose M+6': ['EC-2.4.1.1']}),\n",
       "             'Maltohexaose M+6': defaultdict(list,\n",
       "                         {'1-O-phosphonohexopyranose M+6': ['EC-2.4.1.1']}),\n",
       "             'Mannan M+12': defaultdict(list,\n",
       "                         {'maltotriose M+12': ['EC-2.4.1.1', 'EC-2.4.1.25']}),\n",
       "             'Mannan M+6': defaultdict(list,\n",
       "                         {'1-O-phosphonohexopyranose M+6': ['EC-2.4.1.1'],\n",
       "                          'cellobiose M+6': ['EC-2.4.1.25']}),\n",
       "             'Myo-inositol-1-phosphate M+6': defaultdict(list,\n",
       "                         {'6-o-phosphonohexopyranose M+6': ['EC-5.5.1.4']}),\n",
       "             'TDP-Glucose M+6': defaultdict(list,\n",
       "                         {'1-O-phosphonohexopyranose M+6': ['EC-2.7.7.24']}),\n",
       "             'UDP-Glucose M+6': defaultdict(list,\n",
       "                         {'1-O-phosphonohexopyranose M+6': ['EC-2.7.7.12']}),\n",
       "             'cellobiose M+6': defaultdict(list,\n",
       "                         {'maltotriose M+12': ['EC-3.2.1.20', 'EC-2.4.1.25']}),\n",
       "             'maltotriose M+6': defaultdict(list,\n",
       "                         {'cellobiose M+6': ['EC-3.2.1.20', 'EC-2.4.1.25']})})"
      ]
     },
     "execution_count": 44,
     "metadata": {},
     "output_type": "execute_result"
    }
   ],
   "source": [
    "#Results from Round 2 reaction\n",
    "DictionaryRound"
   ]
  },
  {
   "cell_type": "code",
   "execution_count": 43,
   "metadata": {
    "collapsed": true
   },
   "outputs": [],
   "source": [
    "##Parallel functions\n",
    "#Later reaction rounds are slow given the number of possibilities"
   ]
  },
  {
   "cell_type": "code",
   "execution_count": 45,
   "metadata": {
    "collapsed": true
   },
   "outputs": [],
   "source": [
    "from pathos.helpers import mp"
   ]
  },
  {
   "cell_type": "code",
   "execution_count": 46,
   "metadata": {
    "collapsed": true
   },
   "outputs": [],
   "source": [
    "#Build and run the reaction, also append the new labeled cpd list\n",
    "def PipePandaProcess(CpdList):\n",
    "    \n",
    "    #build reaction matrix\n",
    "    ReactionMatrix=BuildReactionMatrixFromCpdList(CpdList)\n",
    "    \n",
    "    #Run labeling reaction\n",
    "    ReactionMatrix.Compounds=ReactionMatrix.Compounds.apply(GenericLabelingReactionMatrixApply)\n",
    "    \n",
    "    #Prep step\n",
    "    ReactionMatrix=UnpackAndFill(ReactionMatrix)\n",
    "    \n",
    "    #Add new column for labeled list export later\n",
    "    ReactionMatrix['NewCpds']=ReactionMatrix.Products\n",
    "    \n",
    "    #Get list of cpds - check if you can directly export the cpd list instead of add to DF\n",
    "    #NewList=pandas.Series(NewLabeledCpdList(ReactionMatrix))\n",
    "    \n",
    "    #Convert matrix to English\n",
    "    ReactionMatrix=ConvertMatrixToEnglish(ReactionMatrix)\n",
    "        \n",
    "    return(ReactionMatrix)"
   ]
  },
  {
   "cell_type": "code",
   "execution_count": 47,
   "metadata": {
    "collapsed": true
   },
   "outputs": [],
   "source": [
    "#Successful write out in parallel function\n",
    "def ParallelRxnBuildWriteOut(LabeledList,BuildFunction,RoundNum):\n",
    "    \n",
    "    #Split into 12x8=96 chunks - using 16 cores\n",
    "    SplitList=numpy.array_split(LabeledList,16*32)\n",
    "    \n",
    "    #Fill new list of labeled cpds\n",
    "    NewCpdList=[]\n",
    "    \n",
    "    #Build multiprocessing pool object with 16 processors\n",
    "    pooler=mp.Pool(16)\n",
    "\n",
    "    #Set up the new file\n",
    "    with open('TempPandaDF.csv','w') as fp:\n",
    "        \n",
    "        #For each result in the Build function using an item from SplitList\n",
    "        for result in pooler.imap(BuildFunction,SplitList):\n",
    "            \n",
    "            #Building new cpd list\n",
    "            NewCpds=NewLabeledCpdList(result)\n",
    "            NewCpdList.extend(NewCpds)\n",
    "            \n",
    "            #Each result is a Pandas Object, so write it to csv\n",
    "            result.to_csv(fp,index=False,header=False)\n",
    "\n",
    "    \n",
    "    pooler.close()\n",
    "    pooler.join()\n",
    "\n",
    "    #Unique items\n",
    "    NewCpdList=list(set(NewCpdList))\n",
    "    \n",
    "    #Write File\n",
    "    CpdFile='LabeledCpds_FromRound_{0}.csv'.format(RoundNum) #Change\n",
    "    with open(CpdFile,'w') as output:\n",
    "        writer=csv.writer(output,lineterminator='\\n')\n",
    "        for val in NewCpdList:\n",
    "            writer.writerow([val])\n",
    "    \n",
    "    #Return CpdList for next round\n",
    "    return(NewCpdList)\n"
   ]
  },
  {
   "cell_type": "code",
   "execution_count": 48,
   "metadata": {
    "collapsed": true
   },
   "outputs": [],
   "source": [
    "#Successful write out in parallel function\n",
    "def ParallelRxnBuildWriteOutRd2(LabeledList,BuildFunction,RoundNum):\n",
    "    \n",
    "    #No chunks for round 2\n",
    "    SplitList=numpy.array_split(LabeledList,16)\n",
    "    \n",
    "    #Fill new list of labeled cpds\n",
    "    NewCpdList=[]\n",
    "    \n",
    "    #Build multiprocessing pool object with num of cpus\n",
    "    pooler=mp.Pool(16)\n",
    "\n",
    "    #Set up the new file\n",
    "    with open('TempPandaDF.csv','w') as fp:\n",
    "        \n",
    "        #For each result in the Build function using an item from SplitList\n",
    "        for result in pooler.imap(BuildFunction,SplitList):\n",
    "            \n",
    "            #Building new cpd list\n",
    "            NewCpds=NewLabeledCpdList(result)\n",
    "            NewCpdList.extend(NewCpds)\n",
    "            \n",
    "            #Each result is a Pandas Object, so write it to csv\n",
    "            result.to_csv(fp,index=False,header=False)\n",
    "\n",
    "    \n",
    "    pooler.close()\n",
    "    pooler.join()\n",
    "\n",
    "    #Unique items\n",
    "    NewCpdList=list(set(NewCpdList))\n",
    "    \n",
    "    #Write File\n",
    "    CpdFile='LabeledCpds_FromRound_{0}.csv'.format(RoundNum) #Change\n",
    "    with open(CpdFile,'w') as output:\n",
    "        writer=csv.writer(output,lineterminator='\\n')\n",
    "        for val in NewCpdList:\n",
    "            writer.writerow([val])\n",
    "    \n",
    "    #Return CpdList for next round\n",
    "    return(NewCpdList)\n"
   ]
  },
  {
   "cell_type": "code",
   "execution_count": 49,
   "metadata": {
    "collapsed": true
   },
   "outputs": [],
   "source": [
    "def ConvertBackForDict(PandaDF):\n",
    "    #Convert back to original pandas formatting\n",
    "    PandaDF.Reactants=PandaDF.Reactants.apply(ConvertBackForDictSub)\n",
    "    PandaDF.Products=PandaDF.Products.apply(ConvertBackForDictSub)\n",
    "    return(PandaDF)"
   ]
  },
  {
   "cell_type": "code",
   "execution_count": 50,
   "metadata": {
    "collapsed": true
   },
   "outputs": [],
   "source": [
    "def ConvertBackForDictSub(PandaDFColumn):\n",
    "    PandaDFColumn=re.sub('\\'|\\[|\\]','',PandaDFColumn)\n",
    "    PandaDFColumn=re.split(', ',PandaDFColumn)\n",
    "    return(PandaDFColumn)"
   ]
  },
  {
   "cell_type": "code",
   "execution_count": 51,
   "metadata": {
    "collapsed": true
   },
   "outputs": [],
   "source": [
    "def AddingDict(ExistingDictionary,LabeledRxnMatrix):\n",
    "    \n",
    "    LabeledRxnMatrix=LabeledRxnMatrix.reset_index(drop=True)\n",
    "    \n",
    "    for rxns in range(len(LabeledRxnMatrix)):\n",
    "        \n",
    "        #Remove any extra spaces\n",
    "        Reactants=[SpaceRemover.sub('',x) for x in LabeledRxnMatrix.Reactants[rxns]]\n",
    "\n",
    "        Products=[SpaceRemover.sub('',x) for x in LabeledRxnMatrix.Products[rxns]]\n",
    "        \n",
    "        #Add values to the Product keys, both the reactants as well as the reactants' as keys to the enzymes\n",
    "        if len(Products)==1:\n",
    "            if LabeledRxnMatrix.Reaction[rxns] in ExistingDictionary[str(Products).strip('[]|\\'')][Reactants[0]]:\n",
    "                pass\n",
    "            else:\n",
    "                ExistingDictionary[str(Products).strip('[]|\\'')][Reactants[0]].append(LabeledRxnMatrix.Reaction[rxns])\n",
    "           \n",
    "        if len(Products)>1:\n",
    "            for cpd in range(len(Products)):\n",
    "                if LabeledRxnMatrix.Reaction[rxns] in ExistingDictionary[str(Products[cpd]).strip('[]|\\'')][Reactants[0]]:\n",
    "                    pass\n",
    "                else:\n",
    "                    ExistingDictionary[str(Products[cpd]).strip('[]|\\'')][Reactants[0]].append(LabeledRxnMatrix.Reaction[rxns])\n",
    "\n",
    "    return(ExistingDictionary)"
   ]
  },
  {
   "cell_type": "code",
   "execution_count": 52,
   "metadata": {
    "collapsed": true
   },
   "outputs": [],
   "source": [
    "def BuildDictionaryFromCsv(RoundNum):\n",
    "    #start with blank Dict\n",
    "    RoundDictionary=defaultdict(lambda: defaultdict(list))\n",
    "    \n",
    "    #Set up multiprocessing\n",
    "    #pooler=mp.Pool(mp.cpu_count())\n",
    "    \n",
    "    #Read in the Pandas DF by 10000 row chunks - when I build the loops, the TempPandaDF will be\n",
    "    #a dataframe written to disk as a temporary hold for all the reactions run in a given round\n",
    "    \n",
    "    for chunk in pandas.read_csv('TempPandaDF.csv',sep=',',index_col=False,skip_blank_lines=True,names=['Reaction','Reactants','Products','NewCpds'],chunksize=10000):\n",
    "        #Convert the chunk into a format to be built into dictinoary (i.e. original pandas format)\n",
    "        chunk=ConvertBackForDict(chunk)\n",
    "        #Use the chunk to add into the exisitng dictionary\n",
    "        RoundDictionary=AddingDict(RoundDictionary,chunk)\n",
    "    \n",
    "    #Write out dictionary\n",
    "    output=open('Dictionary_FromRound_{0}.pkl'.format(RoundNum),'wb',-1)\n",
    "    pickle.dump(RoundDictionary,output,protocol=4)\n",
    "    print('Round {0} Done'.format(RoundNum))\n",
    "    \n",
    "    #Remove the TempPandaDF so it doesn't conflict with the next round\n",
    "    os.remove('TempPandaDF.csv')\n",
    "    "
   ]
  },
  {
   "cell_type": "code",
   "execution_count": null,
   "metadata": {
    "collapsed": true
   },
   "outputs": [],
   "source": []
  },
  {
   "cell_type": "code",
   "execution_count": 53,
   "metadata": {
    "collapsed": true
   },
   "outputs": [],
   "source": [
    "##Run parallel reactions"
   ]
  },
  {
   "cell_type": "code",
   "execution_count": 54,
   "metadata": {
    "collapsed": false
   },
   "outputs": [
    {
     "name": "stdout",
     "output_type": "stream",
     "text": [
      "Round 3 Done\n",
      "CPU times: user 164 ms, sys: 72 ms, total: 236 ms\n",
      "Wall time: 601 ms\n"
     ]
    }
   ],
   "source": [
    "%%time\n",
    "#Starting from Round 2, use parallel version - note you need a smaller chunk\n",
    "#returning the next round's labeled list, the reaction results are stored as csv to disk\n",
    "NextRoundCpdList=ParallelRxnBuildWriteOutRd2(NextRoundCpdList,PipePandaProcess,3)\n",
    "#Build the dictioanry for a given round, using the TempPandaDF.csv file on disk\n",
    "BuildDictionaryFromCsv(3)"
   ]
  },
  {
   "cell_type": "code",
   "execution_count": 55,
   "metadata": {
    "collapsed": false
   },
   "outputs": [
    {
     "data": {
      "text/plain": [
       "defaultdict(<function __main__.MakingDict.<locals>.<lambda>>,\n",
       "            {'1,6-di-o-phosphonohexopyranose M+6': defaultdict(list,\n",
       "                         {'1-O-phosphonohexopyranose M+6': ['EC-2.7.1.10'],\n",
       "                          '6-o-phosphonohexopyranose M+6': ['EC-2.7.1.11']}),\n",
       "             '1-O-phosphonohexopyranose M+6': defaultdict(list,\n",
       "                         {'6-o-phosphonohexopyranose M+6': ['EC-5.4.2.6',\n",
       "                           'EC-5.4.2.5'],\n",
       "                          'D-(+)-Trehalose M+6': ['EC-2.4.1.231',\n",
       "                           'EC-2.4.1.64']}),\n",
       "             '2906-23-2 M+6': defaultdict(list,\n",
       "                         {'1-O-phosphonohexopyranose M+6': ['EC-2.7.7.33']}),\n",
       "             '6-o-phosphonohexopyranose M+6': defaultdict(list,\n",
       "                         {'1-O-phosphonohexopyranose M+6': ['EC-5.4.2.6',\n",
       "                           'EC-5.4.2.5'],\n",
       "                          '6-o-phosphonohexopyranose M+6': ['EC-5.1.3.15']}),\n",
       "             '6-o-phosphonohexopyranosyl hexopyranoside M+6': defaultdict(list,\n",
       "                         {'D-(+)-Trehalose M+6': ['EC-3.1.3.12']}),\n",
       "             'AC1MVMG6 M+6': defaultdict(list,\n",
       "                         {'1-O-phosphonohexopyranose M+6': ['EC-2.4.1.1'],\n",
       "                          'cellobiose M+6': ['EC-2.4.1.25']}),\n",
       "             'AC1NDWT1 M+6': defaultdict(list,\n",
       "                         {'melibiose M+6': ['EC-2.4.2']}),\n",
       "             'ADP-Glucose M+6': defaultdict(list,\n",
       "                         {'1-O-phosphonohexopyranose M+6': ['EC-2.7.7.27']}),\n",
       "             'D-(+)-Trehalose M+12': defaultdict(list,\n",
       "                         {'1-O-phosphonohexopyranose M+6': ['EC-2.4.1.64']}),\n",
       "             'D-(+)-Trehalose M+6': defaultdict(list,\n",
       "                         {'1-O-phosphonohexopyranose M+6': ['EC-2.4.1.231']}),\n",
       "             'GDP-Glucose M+6': defaultdict(list,\n",
       "                         {'1-O-phosphonohexopyranose M+6': ['EC-2.7.7.13',\n",
       "                           'EC-2.7.7.34']}),\n",
       "             'Hex-2-ulofuranosyl hexopyranoside M+6': defaultdict(list,\n",
       "                         {'1-O-phosphonohexopyranose M+6': ['EC-2.4.1.7']}),\n",
       "             'Hexonic acid M+6': defaultdict(list,\n",
       "                         {'glucono-delta-lactone M+6': ['EC-3.1.1.17']}),\n",
       "             'Hexopyranose M+6': defaultdict(list,\n",
       "                         {'1-O-phosphonohexopyranose M+6': ['EC-2.4.1.64',\n",
       "                           'EC-2.7.1.6',\n",
       "                           'EC-2.4.1.231',\n",
       "                           'EC-3.1.3.10'],\n",
       "                          '6-o-phosphonohexopyranose M+6': ['EC-2.7.1.1',\n",
       "                           'EC-2.7.1.147'],\n",
       "                          'D-(+)-Trehalose M+6': ['EC-2.4.1.231',\n",
       "                           'EC-3.2.1.28',\n",
       "                           'EC-2.4.1.64'],\n",
       "                          'cellobiose M+6': ['EC-3.2.1.20', 'EC-2.4.1.25'],\n",
       "                          'glucono-delta-lactone M+6': ['EC-1.1.1.47',\n",
       "                           'EC-1.1.5.2',\n",
       "                           'EC-1.1.1'],\n",
       "                          'maltotriose M+12': ['EC-3.2.1.20'],\n",
       "                          'melibiose M+6': ['EC-3.2.1.10']}),\n",
       "             'Maltoheptaose M+6': defaultdict(list,\n",
       "                         {'1-O-phosphonohexopyranose M+6': ['EC-2.4.1.1']}),\n",
       "             'Maltohexaose M+6': defaultdict(list,\n",
       "                         {'1-O-phosphonohexopyranose M+6': ['EC-2.4.1.1']}),\n",
       "             'Mannan M+12': defaultdict(list,\n",
       "                         {'maltotriose M+12': ['EC-2.4.1.1', 'EC-2.4.1.25']}),\n",
       "             'Mannan M+6': defaultdict(list,\n",
       "                         {'1-O-phosphonohexopyranose M+6': ['EC-2.4.1.1'],\n",
       "                          'cellobiose M+6': ['EC-2.4.1.25']}),\n",
       "             'Myo-inositol-1-phosphate M+6': defaultdict(list,\n",
       "                         {'6-o-phosphonohexopyranose M+6': ['EC-5.5.1.4']}),\n",
       "             'TDP-Glucose M+6': defaultdict(list,\n",
       "                         {'1-O-phosphonohexopyranose M+6': ['EC-2.7.7.24']}),\n",
       "             'UDP-Glucose M+6': defaultdict(list,\n",
       "                         {'1-O-phosphonohexopyranose M+6': ['EC-2.7.7.12']}),\n",
       "             'cellobiose M+6': defaultdict(list,\n",
       "                         {'maltotriose M+12': ['EC-3.2.1.20', 'EC-2.4.1.25']}),\n",
       "             'maltotriose M+6': defaultdict(list,\n",
       "                         {'cellobiose M+6': ['EC-3.2.1.20', 'EC-2.4.1.25']})})"
      ]
     },
     "execution_count": 55,
     "metadata": {},
     "output_type": "execute_result"
    }
   ],
   "source": [
    "#Results of Reaction Round 3\n",
    "#Note this can be run iteratively to keep probing deeper into metabolism\n",
    "DictionaryRound"
   ]
  },
  {
   "cell_type": "code",
   "execution_count": null,
   "metadata": {
    "collapsed": true
   },
   "outputs": [],
   "source": []
  }
 ],
 "metadata": {
  "anaconda-cloud": {},
  "kernelspec": {
   "display_name": "Python [default]",
   "language": "python",
   "name": "python3"
  },
  "language_info": {
   "codemirror_mode": {
    "name": "ipython",
    "version": 3
   },
   "file_extension": ".py",
   "mimetype": "text/x-python",
   "name": "python",
   "nbconvert_exporter": "python",
   "pygments_lexer": "ipython3",
   "version": "3.5.2"
  }
 },
 "nbformat": 4,
 "nbformat_minor": 1
}
